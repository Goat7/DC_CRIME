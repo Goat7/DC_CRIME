{
 "cells": [
  {
   "cell_type": "code",
   "execution_count": 1,
   "metadata": {},
   "outputs": [
    {
     "name": "stdout",
     "output_type": "stream",
     "text": [
      "Requirement already satisfied: geopandas in /Users/unit202301/anaconda3/lib/python3.6/site-packages (0.4.0)\n",
      "Requirement already satisfied: shapely in /Users/unit202301/anaconda3/lib/python3.6/site-packages (from geopandas) (1.6.4.post1)\n",
      "Requirement already satisfied: pandas in /Users/unit202301/anaconda3/lib/python3.6/site-packages (from geopandas) (0.22.0)\n",
      "Requirement already satisfied: fiona in /Users/unit202301/anaconda3/lib/python3.6/site-packages (from geopandas) (1.7.13)\n",
      "Requirement already satisfied: pyproj in /Users/unit202301/anaconda3/lib/python3.6/site-packages (from geopandas) (1.9.5.1)\n",
      "Requirement already satisfied: python-dateutil>=2 in /Users/unit202301/anaconda3/lib/python3.6/site-packages (from pandas->geopandas) (2.6.1)\n",
      "Requirement already satisfied: pytz>=2011k in /Users/unit202301/anaconda3/lib/python3.6/site-packages (from pandas->geopandas) (2017.3)\n",
      "Requirement already satisfied: numpy>=1.9.0 in /Users/unit202301/anaconda3/lib/python3.6/site-packages (from pandas->geopandas) (1.14.0)\n",
      "Requirement already satisfied: munch in /Users/unit202301/anaconda3/lib/python3.6/site-packages (from fiona->geopandas) (2.3.2)\n",
      "Requirement already satisfied: cligj>=0.4 in /Users/unit202301/anaconda3/lib/python3.6/site-packages (from fiona->geopandas) (0.4.0)\n",
      "Requirement already satisfied: six>=1.7 in /Users/unit202301/anaconda3/lib/python3.6/site-packages (from fiona->geopandas) (1.11.0)\n",
      "Requirement already satisfied: click-plugins in /Users/unit202301/anaconda3/lib/python3.6/site-packages (from fiona->geopandas) (1.0.3)\n",
      "Requirement already satisfied: click>=4.0 in /Users/unit202301/anaconda3/lib/python3.6/site-packages (from cligj>=0.4->fiona->geopandas) (6.7)\n"
     ]
    }
   ],
   "source": [
    "!pip install geopandas"
   ]
  },
  {
   "cell_type": "code",
   "execution_count": 2,
   "metadata": {},
   "outputs": [
    {
     "name": "stdout",
     "output_type": "stream",
     "text": [
      "Requirement already satisfied: folium in /Users/unit202301/anaconda3/lib/python3.6/site-packages (0.5.0)\n",
      "Requirement already satisfied: six in /Users/unit202301/anaconda3/lib/python3.6/site-packages (from folium) (1.11.0)\n",
      "Requirement already satisfied: branca in /Users/unit202301/anaconda3/lib/python3.6/site-packages (from folium) (0.3.0)\n",
      "Requirement already satisfied: jinja2 in /Users/unit202301/anaconda3/lib/python3.6/site-packages (from folium) (2.10)\n",
      "Requirement already satisfied: requests in /Users/unit202301/anaconda3/lib/python3.6/site-packages (from folium) (2.18.4)\n",
      "Requirement already satisfied: MarkupSafe>=0.23 in /Users/unit202301/anaconda3/lib/python3.6/site-packages (from jinja2->folium) (1.0)\n",
      "Requirement already satisfied: chardet<3.1.0,>=3.0.2 in /Users/unit202301/anaconda3/lib/python3.6/site-packages (from requests->folium) (3.0.4)\n",
      "Requirement already satisfied: idna<2.7,>=2.5 in /Users/unit202301/anaconda3/lib/python3.6/site-packages (from requests->folium) (2.6)\n",
      "Requirement already satisfied: urllib3<1.23,>=1.21.1 in /Users/unit202301/anaconda3/lib/python3.6/site-packages (from requests->folium) (1.22)\n",
      "Requirement already satisfied: certifi>=2017.4.17 in /Users/unit202301/anaconda3/lib/python3.6/site-packages (from requests->folium) (2018.4.16)\n"
     ]
    }
   ],
   "source": [
    "!pip install folium\n"
   ]
  },
  {
   "cell_type": "code",
   "execution_count": 3,
   "metadata": {},
   "outputs": [],
   "source": [
    "import gmaps\n",
    "\n",
    "# Google developer API key\n",
    "from config import gkey\n",
    "\n",
    "# Access maps with unique API key\n",
    "gmaps.configure(api_key=gkey)\n"
   ]
  },
  {
   "cell_type": "code",
   "execution_count": 12,
   "metadata": {},
   "outputs": [],
   "source": [
    "# Create a list containing coordinates\n",
    "coordinates = [\n",
    "    (38.932533, -77.069766),\n",
    "    (38.928631, -77.031208),\n",
    "    (38.920677, -77.028460),\n",
    "    (38.907059, -76.985496),\n",
    "    (38.895435, -76.990245)\n",
    "]"
   ]
  },
  {
   "cell_type": "code",
   "execution_count": 13,
   "metadata": {},
   "outputs": [],
   "source": [
    "\n",
    "# Customize the size of the figure\n",
    "figure_layout = {\n",
    "    'width': '400px',\n",
    "    'height': '300px',\n",
    "    'border': '1px solid black',\n",
    "    'padding': '1px',\n",
    "    'margin': '0 auto 0 auto'\n",
    "}\n",
    "fig = gmaps.figure(layout=figure_layout, map_type='SATELLITE')"
   ]
  },
  {
   "cell_type": "code",
   "execution_count": 14,
   "metadata": {},
   "outputs": [
    {
     "data": {
      "application/vnd.jupyter.widget-view+json": {
       "model_id": "b5dd6d9754bb4487b5f2bc7061b1c1cc",
       "version_major": 2,
       "version_minor": 0
      },
      "text/html": [
       "<p>Failed to display Jupyter Widget of type <code>Figure</code>.</p>\n",
       "<p>\n",
       "  If you're reading this message in the Jupyter Notebook or JupyterLab Notebook, it may mean\n",
       "  that the widgets JavaScript is still loading. If this message persists, it\n",
       "  likely means that the widgets JavaScript library is either not installed or\n",
       "  not enabled. See the <a href=\"https://ipywidgets.readthedocs.io/en/stable/user_install.html\">Jupyter\n",
       "  Widgets Documentation</a> for setup instructions.\n",
       "</p>\n",
       "<p>\n",
       "  If you're reading this message in another frontend (for example, a static\n",
       "  rendering on GitHub or <a href=\"https://nbviewer.jupyter.org/\">NBViewer</a>),\n",
       "  it may mean that your frontend doesn't currently support widgets.\n",
       "</p>\n"
      ],
      "text/plain": [
       "Figure(layout=FigureLayout(border='1px solid black', height='300px', margin='0 auto 0 auto', padding='1px', width='400px'))"
      ]
     },
     "metadata": {},
     "output_type": "display_data"
    }
   ],
   "source": [
    "# Assign the marker layer to a variable\n",
    "markers = gmaps.marker_layer(coordinates)\n",
    "# Add the layer to the map\n",
    "fig.add_layer(markers)\n",
    "fig"
   ]
  },
  {
   "cell_type": "code",
   "execution_count": null,
   "metadata": {},
   "outputs": [],
   "source": []
  }
 ],
 "metadata": {
  "kernelspec": {
   "display_name": "Python 3",
   "language": "python",
   "name": "python3"
  },
  "language_info": {
   "codemirror_mode": {
    "name": "ipython",
    "version": 3
   },
   "file_extension": ".py",
   "mimetype": "text/x-python",
   "name": "python",
   "nbconvert_exporter": "python",
   "pygments_lexer": "ipython3",
   "version": "3.6.4"
  }
 },
 "nbformat": 4,
 "nbformat_minor": 2
}
